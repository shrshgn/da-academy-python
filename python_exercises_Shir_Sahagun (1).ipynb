{
 "cells": [
  {
   "cell_type": "code",
   "execution_count": null,
   "id": "0802044b",
   "metadata": {},
   "outputs": [],
   "source": [
    "1) Find largest number in a list (parameter) (example: given the list [1,2,35] the largest number is 35)"
   ]
  },
  {
   "cell_type": "code",
   "execution_count": 1,
   "id": "414afd1b",
   "metadata": {},
   "outputs": [
    {
     "data": {
      "text/plain": [
       "7"
      ]
     },
     "execution_count": 1,
     "metadata": {},
     "output_type": "execute_result"
    }
   ],
   "source": [
    "def list_number(x):\n",
    "    return max(x)\n",
    "list_number([1,2,3,4,5,6,7])\n"
   ]
  },
  {
   "cell_type": "code",
   "execution_count": null,
   "id": "a8422111",
   "metadata": {},
   "outputs": [],
   "source": [
    "2) Check a number is prime number or not (example: if I give \"3\" as parameter, the function must return True, otherwhise, False)"
   ]
  },
  {
   "cell_type": "code",
   "execution_count": 5,
   "id": "dd94e653",
   "metadata": {},
   "outputs": [
    {
     "data": {
      "text/plain": [
       "True"
      ]
     },
     "execution_count": 5,
     "metadata": {},
     "output_type": "execute_result"
    }
   ],
   "source": [
    "def prime_number(x):\n",
    "    for i in range(2, x):\n",
    "        if (x % i) ==0:\n",
    "            return False\n",
    "    return True\n",
    "\n",
    "prime_number(5)\n",
    "    "
   ]
  },
  {
   "cell_type": "code",
   "execution_count": null,
   "id": "4707d304",
   "metadata": {},
   "outputs": [],
   "source": [
    "3) Convert kilometers into miles"
   ]
  },
  {
   "cell_type": "code",
   "execution_count": 7,
   "id": "3e8ecca0",
   "metadata": {},
   "outputs": [
    {
     "data": {
      "text/plain": [
       "1.0"
      ]
     },
     "execution_count": 7,
     "metadata": {},
     "output_type": "execute_result"
    }
   ],
   "source": [
    "def to_miles(x):\n",
    "    miles = x / 1.609344\n",
    "    return miles\n",
    "\n",
    "to_miles(1.609344)"
   ]
  },
  {
   "cell_type": "code",
   "execution_count": 21,
   "id": "8e5fd285",
   "metadata": {},
   "outputs": [
    {
     "data": {
      "text/plain": [
       "3.1"
      ]
     },
     "execution_count": 21,
     "metadata": {},
     "output_type": "execute_result"
    }
   ],
   "source": [
    "def to_miles(x):\n",
    "    c=x * 0.62\n",
    "    return c \n",
    "to_miles(5)"
   ]
  },
  {
   "cell_type": "code",
   "execution_count": null,
   "id": "f7618d9c",
   "metadata": {},
   "outputs": [],
   "source": [
    "4) sum of all digits in a number (example: 2.11 = 4 ... because its 2 + 1 + 1 = 4)"
   ]
  },
  {
   "cell_type": "code",
   "execution_count": 27,
   "id": "06a85fb3",
   "metadata": {},
   "outputs": [
    {
     "name": "stdout",
     "output_type": "stream",
     "text": [
      "41\n"
     ]
    }
   ],
   "source": [
    "num = 534727373\n",
    "\n",
    "suma = sum(int(digit) for digit in str(num))\n",
    "\n",
    "print(suma)"
   ]
  },
  {
   "cell_type": "code",
   "execution_count": 29,
   "id": "cf0b5aee",
   "metadata": {},
   "outputs": [],
   "source": []
  },
  {
   "cell_type": "code",
   "execution_count": 3,
   "id": "067de30d",
   "metadata": {},
   "outputs": [
    {
     "name": "stdout",
     "output_type": "stream",
     "text": [
      "43\n"
     ]
    }
   ],
   "source": [
    "def sum_digits(x):\n",
    "    return sum(int(st) for st in str(x) if st.isdigit())\n",
    "\n",
    "print(sum_digits(6.47899))"
   ]
  },
  {
   "cell_type": "code",
   "execution_count": null,
   "id": "184309be",
   "metadata": {},
   "outputs": [],
   "source": [
    "5) Print the Fibonacci series until a given number"
   ]
  },
  {
   "cell_type": "code",
   "execution_count": null,
   "id": "2caca68a",
   "metadata": {},
   "outputs": [],
   "source": []
  }
 ],
 "metadata": {
  "kernelspec": {
   "display_name": "Python 3 (ipykernel)",
   "language": "python",
   "name": "python3"
  },
  "language_info": {
   "codemirror_mode": {
    "name": "ipython",
    "version": 3
   },
   "file_extension": ".py",
   "mimetype": "text/x-python",
   "name": "python",
   "nbconvert_exporter": "python",
   "pygments_lexer": "ipython3",
   "version": "3.9.6"
  }
 },
 "nbformat": 4,
 "nbformat_minor": 5
}
